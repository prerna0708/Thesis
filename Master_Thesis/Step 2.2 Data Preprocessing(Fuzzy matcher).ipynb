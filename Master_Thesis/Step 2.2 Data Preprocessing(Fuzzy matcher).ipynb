{
 "cells": [
  {
   "cell_type": "code",
   "execution_count": 1,
   "id": "efd62349",
   "metadata": {},
   "outputs": [],
   "source": [
    "import import_ipynb\n",
    "from ipynb.fs.full.Functions_sec import *\n",
    "import fuzzymatcher as fm \n",
    "import pandas as pd\n",
    "import os"
   ]
  },
  {
   "cell_type": "code",
   "execution_count": 2,
   "id": "aa8a9b9d",
   "metadata": {},
   "outputs": [],
   "source": [
    "directory = os.getcwd()\n",
    "path = directory + '/Data/'"
   ]
  },
  {
   "cell_type": "markdown",
   "id": "ff29980b",
   "metadata": {},
   "source": [
    "# Reading files"
   ]
  },
  {
   "cell_type": "code",
   "execution_count": 3,
   "id": "9b5759df",
   "metadata": {},
   "outputs": [],
   "source": [
    "cik_header=[\"nameOfIssuer\",\"CIK\"]\n",
    "cik_v3=pd.read_csv(path + 'cik_v3.csv',low_memory=False)\n",
    "cik_final=pd.read_csv(path + 'cik_final.csv',names=cik_header,header=0,sep=\";\")"
   ]
  },
  {
   "cell_type": "markdown",
   "id": "58ea55f5",
   "metadata": {},
   "source": [
    "# Joining using fuzzymatcher"
   ]
  },
  {
   "cell_type": "code",
   "execution_count": 4,
   "id": "c5a4fca9",
   "metadata": {},
   "outputs": [],
   "source": [
    "cik_v4=cik_v3[cik_v3[\"CIK\"].isna()]\n",
    "for_matching=cik_v4[\"nameOfIssuer_x\"].unique()\n",
    "for_matching=pd.DataFrame(for_matching, columns=([\"nameOfIssuer_x\"]))\n",
    "\n",
    "# Columns to match on from df_left\n",
    "left_on = [\"nameOfIssuer_x\"]\n",
    "\n",
    "# Columns to match on from df_right\n",
    "right_on = [\"nameOfIssuer\"]\n",
    "\n",
    "df=split_dataframe(for_matching,1000)"
   ]
  },
  {
   "cell_type": "code",
   "execution_count": null,
   "id": "5abda468",
   "metadata": {},
   "outputs": [],
   "source": [
    "#matched_results\n",
    "for x in range(len(df)):\n",
    "    print(x)\n",
    "    a = fm.fuzzy_left_join(df[x], cik_final,left_on,right_on)\n",
    "    if x==0:\n",
    "        matched_results_final = a \n",
    "    else:\n",
    "        matched_results_final=pd.concat((matched_results_final,a), axis=0,ignore_index=True)"
   ]
  },
  {
   "cell_type": "code",
   "execution_count": null,
   "id": "aabae81e",
   "metadata": {},
   "outputs": [],
   "source": [
    "matched_results_final.to_csv(path + 'Matched.csv')"
   ]
  }
 ],
 "metadata": {
  "kernelspec": {
   "display_name": "Python 3",
   "language": "python",
   "name": "python3"
  },
  "language_info": {
   "codemirror_mode": {
    "name": "ipython",
    "version": 3
   },
   "file_extension": ".py",
   "mimetype": "text/x-python",
   "name": "python",
   "nbconvert_exporter": "python",
   "pygments_lexer": "ipython3",
   "version": "3.8.8"
  }
 },
 "nbformat": 4,
 "nbformat_minor": 5
}
