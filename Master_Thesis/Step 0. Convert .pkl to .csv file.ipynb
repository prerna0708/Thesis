{
 "cells": [
  {
   "cell_type": "code",
   "execution_count": null,
   "id": "7e24a52a",
   "metadata": {},
   "outputs": [],
   "source": [
    "import os\n",
    "import pandas as pd"
   ]
  },
  {
   "cell_type": "code",
   "execution_count": null,
   "id": "865a9062",
   "metadata": {},
   "outputs": [],
   "source": [
    "directory = os.getcwd()\n",
    "path = directory + '/Data/'"
   ]
  },
  {
   "cell_type": "markdown",
   "id": "bd488f0f",
   "metadata": {},
   "source": [
    "# Reading .pkl files"
   ]
  },
  {
   "cell_type": "code",
   "execution_count": null,
   "id": "bf3d670f",
   "metadata": {},
   "outputs": [],
   "source": [
    "Filing_final=pd.read_pickle(path + 'Filing_final.pkl', compression='bz2')\n",
    "Hold_final=pd.read_pickle(path + 'Hold_final.pkl', compression='bz2')\n",
    "Filings_df=pd.read_pickle(path + 'Filings_df.pkl', compression='bz2')\n",
    "Holdings=pd.read_pickle(path + 'Holdings.pkl', compression='bz2')\n",
    "Holdings_df=pd.read_pickle(path + 'Holdings_df.pkl', compression='bz2')\n",
    "cik_v3=pd.read_pickle(path+'cik_v3.pkl', compression='bz2')\n",
    "Relationships=pd.read_pickle(path+'Relationships.pkl', compression='bz2')\n",
    "Relationships_wo_options=pd.read_pickle(path+'Relationships_wo_options.pkl', compression='bz2')"
   ]
  },
  {
   "cell_type": "markdown",
   "id": "deda2177",
   "metadata": {},
   "source": [
    "# Converting to .csv files"
   ]
  },
  {
   "cell_type": "code",
   "execution_count": null,
   "id": "42076330",
   "metadata": {},
   "outputs": [],
   "source": [
    "Filing_final.to_csv(path + 'Filing_final.csv', index=False)\n",
    "Hold_final.to_csv(path + 'Hold_final.csv', index=False)\n",
    "Filings_df.to_csv(path + 'Filings_df.csv', index=False)\n",
    "Holdings.to_csv(path + 'Holdings.csv', index=False)\n",
    "Holdings_df.to_csv(path + 'Holdings_df.csv', index=False)\n",
    "cik_v3.to_csv(path + 'cik_v3.csv', index=False)\n",
    "Relationships.to_csv(path + 'Relationships.csv', index=False)\n",
    "Relationships_wo_options.to_csv(path + 'Relationships_wo_options.csv', index=False)"
   ]
  }
 ],
 "metadata": {
  "kernelspec": {
   "display_name": "Python 3",
   "language": "python",
   "name": "python3"
  },
  "language_info": {
   "codemirror_mode": {
    "name": "ipython",
    "version": 3
   },
   "file_extension": ".py",
   "mimetype": "text/x-python",
   "name": "python",
   "nbconvert_exporter": "python",
   "pygments_lexer": "ipython3",
   "version": "3.8.8"
  }
 },
 "nbformat": 4,
 "nbformat_minor": 5
}
