{
 "cells": [
  {
   "cell_type": "code",
   "execution_count": 1,
   "id": "d8ab5300",
   "metadata": {},
   "outputs": [],
   "source": [
    "#pip install import-ipynb"
   ]
  },
  {
   "cell_type": "code",
   "execution_count": 2,
   "id": "bd6356c5",
   "metadata": {},
   "outputs": [],
   "source": [
    "from ipynb.fs.full.Functions_sec import *\n",
    "import import_ipynb\n",
    "import fuzzymatcher as fm \n",
    "import pandas as pd\n",
    "import os"
   ]
  },
  {
   "cell_type": "code",
   "execution_count": 3,
   "id": "b0b36071",
   "metadata": {},
   "outputs": [],
   "source": [
    "directory = os.getcwd()\n",
    "path = directory + '/Data/'"
   ]
  },
  {
   "cell_type": "markdown",
   "id": "d3706ce0",
   "metadata": {},
   "source": [
    "# Reading files"
   ]
  },
  {
   "cell_type": "code",
   "execution_count": 4,
   "id": "c1aa23fe",
   "metadata": {},
   "outputs": [],
   "source": [
    "header_list = [\"cusip\",'cik','titleOfClass','nameOfIssuer','putCall','investmentDiscretion','value','shrsOrPrnAmt.sshPrnamt',\n",
    "               'shrsOrPrnAmt.sshPrnamtType','votingAuthority.Sole','votingAuthority.Shared','votingAuthority.None','id','Form']\n",
    "cik_header=[\"nameOfIssuer\",\"CIK\"]"
   ]
  },
  {
   "cell_type": "code",
   "execution_count": 5,
   "id": "51ce2db8",
   "metadata": {},
   "outputs": [],
   "source": [
    "Filings=pd.read_csv(path + 'Filing_final.csv')\n",
    "Hold_final=pd.read_csv(path + 'Hold_final.csv',names=header_list,low_memory=False, header=0)\n",
    "cik_final=pd.read_csv(path + 'cik_final.csv',names=cik_header,header=0,sep=\";\")"
   ]
  },
  {
   "cell_type": "markdown",
   "id": "4bc3f408",
   "metadata": {},
   "source": [
    "## Matching company names of cik_lookup and Holdings"
   ]
  },
  {
   "cell_type": "code",
   "execution_count": 6,
   "id": "40191725",
   "metadata": {},
   "outputs": [],
   "source": [
    "Filings[\"companyName_unchanged\"]=Filings[\"companyName\"]\n",
    "Hold_final[\"nameOfIssuer_unchanged\"]=Hold_final[\"nameOfIssuer\"]\n",
    "cik_final[\"nameOfIssuer_unchanged\"]=cik_final[\"nameOfIssuer\"]"
   ]
  },
  {
   "cell_type": "code",
   "execution_count": 7,
   "id": "8eff6b12",
   "metadata": {},
   "outputs": [],
   "source": [
    "Filings[\"companyName\"]=transformation_v1(Filings,\"companyName\")    \n",
    "Hold_final[\"nameOfIssuer\"]=transformation_v1(Hold_final,\"nameOfIssuer\")    \n",
    "cik_final[\"nameOfIssuer\"]=transformation_v1(cik_final,\"nameOfIssuer\")    \n",
    "Hold_final.rename(columns = {'cik':'cik_Filing'}, inplace = True)"
   ]
  },
  {
   "cell_type": "code",
   "execution_count": 8,
   "id": "f82f5d53",
   "metadata": {},
   "outputs": [],
   "source": [
    "Minus=cik_final[cik_final.duplicated('nameOfIssuer', keep=\"first\")]\n",
    "### Keeping first column only in case of duplicates on the column nameOfIssuer\n",
    "cik_final=cik_final.drop(Minus.index).reset_index(drop=True)"
   ]
  },
  {
   "cell_type": "markdown",
   "id": "744fcc2e",
   "metadata": {},
   "source": [
    "## Finding cik of Holdings using Filings information"
   ]
  },
  {
   "cell_type": "code",
   "execution_count": 9,
   "id": "ad24371e",
   "metadata": {},
   "outputs": [],
   "source": [
    "Hold_f=Hold_final.merge(Filings, how='left',left_on=\"nameOfIssuer\",right_on=\"companyName\")\n",
    "For_cik_merge=Hold_f[Hold_f[\"cik\"].isna()].iloc[: , :14]"
   ]
  },
  {
   "cell_type": "code",
   "execution_count": 10,
   "id": "597e3b3e",
   "metadata": {},
   "outputs": [
    {
     "data": {
      "text/plain": [
       "1910204"
      ]
     },
     "execution_count": 10,
     "metadata": {},
     "output_type": "execute_result"
    }
   ],
   "source": [
    "len(Hold_final)"
   ]
  },
  {
   "cell_type": "code",
   "execution_count": 11,
   "id": "5f6a3469",
   "metadata": {},
   "outputs": [
    {
     "data": {
      "text/plain": [
       "45924"
      ]
     },
     "execution_count": 11,
     "metadata": {},
     "output_type": "execute_result"
    }
   ],
   "source": [
    "len(Hold_f[~Hold_f[\"cik\"].isna()]) #out of 1910204, 45924 cik numbers have been filled by Filings file"
   ]
  },
  {
   "cell_type": "code",
   "execution_count": 12,
   "id": "3d3a548d",
   "metadata": {},
   "outputs": [],
   "source": [
    "merge_1=Hold_f[~Hold_f[\"cik\"].isna()][[\"cusip\",\"cik_Filing\",\"titleOfClass\",\"putCall\",\"cik\",\"investmentDiscretion\",\"value\",\"nameOfIssuer\",\"nameOfIssuer_unchanged\"]]\n",
    "merge_1.rename(columns = {'cik':'CIK'}, inplace = True)"
   ]
  },
  {
   "cell_type": "markdown",
   "id": "e0aef6ec",
   "metadata": {},
   "source": [
    "## Round 1: Using cik lookup table to find cik numbers"
   ]
  },
  {
   "cell_type": "code",
   "execution_count": 13,
   "id": "2e713aeb",
   "metadata": {},
   "outputs": [],
   "source": [
    "Holdings_with_cik=pd.merge(For_cik_merge,cik_final,how=\"left\", on =\"nameOfIssuer\")"
   ]
  },
  {
   "cell_type": "code",
   "execution_count": 14,
   "id": "0dc271f3",
   "metadata": {},
   "outputs": [
    {
     "data": {
      "text/plain": [
       "778399"
      ]
     },
     "execution_count": 14,
     "metadata": {},
     "output_type": "execute_result"
    }
   ],
   "source": [
    "len(Holdings_with_cik[Holdings_with_cik[\"CIK\"].isna()])#1085881 cik have been filled by cik table, 778399 dont have cik number"
   ]
  },
  {
   "cell_type": "code",
   "execution_count": 15,
   "id": "b52e4044",
   "metadata": {},
   "outputs": [
    {
     "data": {
      "text/plain": [
       "1085881"
      ]
     },
     "execution_count": 15,
     "metadata": {},
     "output_type": "execute_result"
    }
   ],
   "source": [
    "len(Holdings_with_cik[~Holdings_with_cik[\"CIK\"].isna()])#1085921 cik have been filled by cik table, 778399 dont have cik number"
   ]
  },
  {
   "cell_type": "code",
   "execution_count": 16,
   "id": "4c50e207",
   "metadata": {},
   "outputs": [],
   "source": [
    "cik_v2=pd.DataFrame(Holdings_with_cik[Holdings_with_cik[\"CIK\"].isna()].iloc[:,:14])"
   ]
  },
  {
   "cell_type": "code",
   "execution_count": 17,
   "id": "c4aa87b7",
   "metadata": {},
   "outputs": [],
   "source": [
    "merge_2=Holdings_with_cik[~Holdings_with_cik[\"CIK\"].isna()][[\"cusip\",\"cik_Filing\",\"titleOfClass\",\"putCall\",\"CIK\",\"investmentDiscretion\",\"value\",\"nameOfIssuer\",\"nameOfIssuer_unchanged\"]]"
   ]
  },
  {
   "cell_type": "markdown",
   "id": "2bd30821",
   "metadata": {},
   "source": [
    "## Round 2 transformation: using regex"
   ]
  },
  {
   "cell_type": "code",
   "execution_count": 18,
   "id": "b61c8a18",
   "metadata": {},
   "outputs": [],
   "source": [
    "cik_final[\"nameOfIssuer\"]=transformation_v2(cik_final,\"nameOfIssuer\")\n",
    "cik_v2[\"nameOfIssuer\"]=transformation_v2(cik_v2,\"nameOfIssuer\")"
   ]
  },
  {
   "cell_type": "code",
   "execution_count": 19,
   "id": "796d873f",
   "metadata": {},
   "outputs": [],
   "source": [
    "cik_v2=pd.merge(cik_v2,cik_final,how=\"left\", on =\"nameOfIssuer\")"
   ]
  },
  {
   "cell_type": "code",
   "execution_count": 20,
   "id": "65d16a06",
   "metadata": {},
   "outputs": [
    {
     "data": {
      "text/plain": [
       "116768"
      ]
     },
     "execution_count": 20,
     "metadata": {},
     "output_type": "execute_result"
    }
   ],
   "source": [
    "len(cik_v2[~cik_v2[\"CIK\"].isna()]) #116768 were filled and 666179 are still empty"
   ]
  },
  {
   "cell_type": "code",
   "execution_count": 21,
   "id": "f3db0d93",
   "metadata": {},
   "outputs": [
    {
     "data": {
      "text/plain": [
       "666179"
      ]
     },
     "execution_count": 21,
     "metadata": {},
     "output_type": "execute_result"
    }
   ],
   "source": [
    "len(cik_v2[cik_v2[\"CIK\"].isna()])"
   ]
  },
  {
   "cell_type": "code",
   "execution_count": 22,
   "id": "399231a0",
   "metadata": {},
   "outputs": [],
   "source": [
    "merge_3=cik_v2[~cik_v2[\"CIK\"].isna()][[\"cusip\",\"cik_Filing\",\"titleOfClass\",\"putCall\",\"CIK\",\"investmentDiscretion\",\"value\",\"nameOfIssuer\",\"nameOfIssuer_unchanged\"]]"
   ]
  },
  {
   "cell_type": "markdown",
   "id": "8b0e9097",
   "metadata": {},
   "source": [
    "##  Round 3 transformation: using regex"
   ]
  },
  {
   "cell_type": "code",
   "execution_count": 23,
   "id": "166e8285",
   "metadata": {},
   "outputs": [],
   "source": [
    "cik_v3=pd.DataFrame(cik_v2[cik_v2[\"CIK\"].isna()])\n",
    "cik_v3=cik_v3.drop([\"CIK\",\"nameOfIssuer_unchanged\"],axis=1)"
   ]
  },
  {
   "cell_type": "code",
   "execution_count": 24,
   "id": "a4f4b554",
   "metadata": {},
   "outputs": [],
   "source": [
    "cik_v3[\"nameOfIssuer\"]=transformation_v3(cik_v3,\"nameOfIssuer\")\n",
    "cik_final[\"nameOfIssuer\"]=transformation_v3(cik_final,\"nameOfIssuer\")\n",
    "\n",
    "cik_v3[\"nameOfIssuer_1\"]=cik_v3[\"nameOfIssuer\"].replace(' ', '',regex=True)\n",
    "cik_final[\"nameOfIssuer_1\"]=cik_final[\"nameOfIssuer\"].replace(' ', '',regex=True)"
   ]
  },
  {
   "cell_type": "code",
   "execution_count": 25,
   "id": "2cf2c8e2",
   "metadata": {},
   "outputs": [],
   "source": [
    "cik_v3=pd.merge(cik_v3,cik_final,how=\"left\", on =\"nameOfIssuer_1\")"
   ]
  },
  {
   "cell_type": "code",
   "execution_count": 26,
   "id": "2be8cd53",
   "metadata": {},
   "outputs": [
    {
     "data": {
      "text/plain": [
       "101312"
      ]
     },
     "execution_count": 26,
     "metadata": {},
     "output_type": "execute_result"
    }
   ],
   "source": [
    "len(cik_v3[~cik_v3[\"CIK\"].isna()])"
   ]
  },
  {
   "cell_type": "code",
   "execution_count": 27,
   "id": "10d235ab",
   "metadata": {},
   "outputs": [
    {
     "data": {
      "text/plain": [
       "573435"
      ]
     },
     "execution_count": 27,
     "metadata": {},
     "output_type": "execute_result"
    }
   ],
   "source": [
    "len(cik_v3[cik_v3[\"CIK\"].isna()]) # 5,73,432 relationships dont have cik \n",
    "# some rows have zero cusip and 0 as value,\n",
    "# 82 rows with zero cusip and value>0\n",
    "# 573384 -82= 573302 rows dont have cik number\n",
    "# 68500 companies dont have cik"
   ]
  },
  {
   "cell_type": "markdown",
   "id": "dc9902e4",
   "metadata": {},
   "source": [
    "## Filtering records with CUSIP =\"00000000\""
   ]
  },
  {
   "cell_type": "code",
   "execution_count": 28,
   "id": "de5d2135",
   "metadata": {},
   "outputs": [],
   "source": [
    "cik_v3=cik_v3[~((cik_v3[\"cusip\"]==\"000000000\") & (cik_v3[\"value\"]==0)) ].reset_index(drop=True)"
   ]
  },
  {
   "cell_type": "code",
   "execution_count": 29,
   "id": "0764ca11",
   "metadata": {},
   "outputs": [
    {
     "data": {
      "text/plain": [
       "573387"
      ]
     },
     "execution_count": 29,
     "metadata": {},
     "output_type": "execute_result"
    }
   ],
   "source": [
    "len(cik_v3[cik_v3[\"CIK\"].isna()])"
   ]
  },
  {
   "cell_type": "code",
   "execution_count": 30,
   "id": "c696ce18",
   "metadata": {},
   "outputs": [],
   "source": [
    "merge_4=cik_v3[~cik_v3[\"CIK\"].isna()][[\"cusip\",\"cik_Filing\",\"titleOfClass\",\"putCall\",\"CIK\",\"investmentDiscretion\",\"value\",\"nameOfIssuer_x\",\"nameOfIssuer_unchanged\"]]\n",
    "merge_4.rename(columns = {'nameOfIssuer_x':'nameOfIssuer'}, inplace = True)"
   ]
  },
  {
   "cell_type": "code",
   "execution_count": 31,
   "id": "8401dd9c",
   "metadata": {},
   "outputs": [],
   "source": [
    "Holdings_df=pd.concat((merge_1,merge_2,merge_3,merge_4),axis=0, ignore_index=True)"
   ]
  },
  {
   "cell_type": "markdown",
   "id": "52a331d7",
   "metadata": {},
   "source": [
    "## Saving files"
   ]
  },
  {
   "cell_type": "code",
   "execution_count": 32,
   "id": "e3e9fc2b",
   "metadata": {},
   "outputs": [],
   "source": [
    "cik_v3.to_csv(path +'cik_v3.csv', index=False)\n",
    "Holdings_df.to_csv(path+'Holdings_df.csv', index=False)\n",
    "Filings.to_csv(path+'Filings_df.csv',index=False)"
   ]
  }
 ],
 "metadata": {
  "kernelspec": {
   "display_name": "Python 3",
   "language": "python",
   "name": "python3"
  },
  "language_info": {
   "codemirror_mode": {
    "name": "ipython",
    "version": 3
   },
   "file_extension": ".py",
   "mimetype": "text/x-python",
   "name": "python",
   "nbconvert_exporter": "python",
   "pygments_lexer": "ipython3",
   "version": "3.8.8"
  }
 },
 "nbformat": 4,
 "nbformat_minor": 5
}
