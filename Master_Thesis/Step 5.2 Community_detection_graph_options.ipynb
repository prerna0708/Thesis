{
 "cells": [
  {
   "cell_type": "code",
   "execution_count": 1,
   "id": "c7e88fe6",
   "metadata": {},
   "outputs": [],
   "source": [
    "from neo4j import GraphDatabase\n",
    "import pandas as pd\n",
    "from tabulate import tabulate\n",
    "import os\n",
    "import matplotlib\n",
    "matplotlib.use('TkAgg')\n",
    "import matplotlib.pyplot as plt"
   ]
  },
  {
   "cell_type": "code",
   "execution_count": 2,
   "id": "0e8f1874",
   "metadata": {},
   "outputs": [],
   "source": [
    "directory = os.getcwd()\n",
    "path = directory + '/Data/'"
   ]
  },
  {
   "cell_type": "markdown",
   "id": "00ea15a7",
   "metadata": {},
   "source": [
    "## Connecting to database in neo4j"
   ]
  },
  {
   "cell_type": "code",
   "execution_count": 3,
   "id": "e9ae0032",
   "metadata": {},
   "outputs": [],
   "source": [
    "driver=GraphDatabase.driver(\"bolt://localhost:7687\",auth=(\"neo4j\",\"\"))\n",
    "session = driver.session(database=\"graphoptions\")"
   ]
  },
  {
   "cell_type": "markdown",
   "id": "57b188c1",
   "metadata": {},
   "source": [
    "## Louvain "
   ]
  },
  {
   "cell_type": "code",
   "execution_count": 4,
   "id": "2fb13785",
   "metadata": {},
   "outputs": [],
   "source": [
    "query='''CALL gds.louvain.write({\n",
    "  nodeProjection: 'company',\n",
    "  relationshipProjection: {\n",
    "    relType: {\n",
    "      type: 'Holds',\n",
    "      orientation: 'REVERSE',\n",
    "      properties: {\n",
    "        value: {\n",
    "          property: 'value',\n",
    "          defaultValue: 1\n",
    "        }\n",
    "      }\n",
    "    }\n",
    "  },\n",
    "  relationshipWeightProperty: 'value',\n",
    "  includeIntermediateCommunities: false,\n",
    "  seedProperty: '',\n",
    "  writeProperty: 'louvain'\n",
    "});'''\n",
    "with driver.session(database=\"graphoptions\") as session:\n",
    "    session.run(query)"
   ]
  },
  {
   "cell_type": "markdown",
   "id": "f9e83a75",
   "metadata": {},
   "source": [
    "## Label propagation algorithm"
   ]
  },
  {
   "cell_type": "code",
   "execution_count": 5,
   "id": "332098e2",
   "metadata": {},
   "outputs": [],
   "source": [
    "query='''CALL gds.labelPropagation.write({\n",
    "  nodeProjection: 'company',\n",
    "  relationshipProjection: {\n",
    "    relType: {\n",
    "      type: 'Holds',\n",
    "      orientation: 'REVERSE',\n",
    "      properties: {\n",
    "        value: {\n",
    "          property: 'value',\n",
    "          defaultValue: 1\n",
    "        }\n",
    "      }\n",
    "    }\n",
    "  },\n",
    "  relationshipWeightProperty: 'value',\n",
    "  seedProperty: '',\n",
    "  writeProperty: 'lpa'\n",
    "});'''\n",
    "with driver.session(database=\"graphoptions\") as session:\n",
    "    session.run(query)"
   ]
  },
  {
   "cell_type": "markdown",
   "id": "e6942ad5",
   "metadata": {},
   "source": [
    "## Strongly connected components"
   ]
  },
  {
   "cell_type": "code",
   "execution_count": 6,
   "id": "5b11cd63",
   "metadata": {},
   "outputs": [],
   "source": [
    "query='''CALL gds.alpha.scc.write({\n",
    "  nodeProjection: 'company',\n",
    "  relationshipProjection: {\n",
    "    relType: {\n",
    "      type: 'Holds',\n",
    "      orientation: 'REVERSE',\n",
    "      properties: {}\n",
    "    }\n",
    "  },\n",
    "  writeProperty: 'scc'\n",
    "});'''\n",
    "with driver.session(database=\"graphoptions\") as session:\n",
    "    session.run(query)"
   ]
  }
 ],
 "metadata": {
  "kernelspec": {
   "display_name": "Python 3",
   "language": "python",
   "name": "python3"
  },
  "language_info": {
   "codemirror_mode": {
    "name": "ipython",
    "version": 3
   },
   "file_extension": ".py",
   "mimetype": "text/x-python",
   "name": "python",
   "nbconvert_exporter": "python",
   "pygments_lexer": "ipython3",
   "version": "3.8.8"
  }
 },
 "nbformat": 4,
 "nbformat_minor": 5
}
