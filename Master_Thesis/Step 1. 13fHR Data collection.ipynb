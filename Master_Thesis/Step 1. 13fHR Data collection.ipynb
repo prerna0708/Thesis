{
 "cells": [
  {
   "cell_type": "code",
   "execution_count": null,
   "id": "9d014557",
   "metadata": {},
   "outputs": [],
   "source": [
    "# pip install sec-api\n",
    "# pip install neo4j\n",
    "# pip install untangle\n",
    "# pip install --upgrade pandas --user"
   ]
  },
  {
   "cell_type": "code",
   "execution_count": 1,
   "id": "5305a8f5",
   "metadata": {},
   "outputs": [],
   "source": [
    "from py2neo import Graph, Node, Relationship\n",
    "from sec_api import QueryApi\n",
    "import pandas as pd\n",
    "import http.client\n",
    "from urllib.request import urlopen\n",
    "from ipynb.fs.full.Functions_sec import *\n",
    "import os\n",
    "#import xmltodict"
   ]
  },
  {
   "cell_type": "code",
   "execution_count": 2,
   "id": "65e95bf6",
   "metadata": {},
   "outputs": [],
   "source": [
    "directory = os.getcwd()\n",
    "path = directory + '/Data/'"
   ]
  },
  {
   "cell_type": "markdown",
   "id": "769216d9",
   "metadata": {},
   "source": [
    "# Fetching Filings of 13f/HR "
   ]
  },
  {
   "cell_type": "code",
   "execution_count": 1056,
   "id": "6c48f011",
   "metadata": {},
   "outputs": [],
   "source": [
    "# # initialize the query API\n",
    "queryApi = QueryApi(api_key=\"deb4d5052cc76e66ae6b4a1b7b5ad07bcd1a0beda77f3ba69cc0b10457d2f9cb\")\n",
    "\n",
    "Filings=get_13f_filings()\n",
    "Filings=Filings.iloc[Filings.astype(str).drop_duplicates().index]"
   ]
  },
  {
   "cell_type": "code",
   "execution_count": null,
   "id": "7bcc09ed",
   "metadata": {},
   "outputs": [],
   "source": [
    "Filings_HR_A=get_13f_HRA_filings()"
   ]
  },
  {
   "cell_type": "markdown",
   "id": "47100e29",
   "metadata": {},
   "source": [
    "# Fetching 13FHR/A data "
   ]
  },
  {
   "cell_type": "code",
   "execution_count": null,
   "id": "072951c6",
   "metadata": {},
   "outputs": [],
   "source": [
    "Filings_HR_A=get_13f_HRA_filings()\n",
    "Filings_HR_A=Filings_HR_A.sort_values(by=['filedAt'])"
   ]
  },
  {
   "cell_type": "markdown",
   "id": "d673147d",
   "metadata": {},
   "source": [
    "# Web scraping to get 13FHR/A holdings"
   ]
  },
  {
   "cell_type": "code",
   "execution_count": null,
   "id": "cd387f6f",
   "metadata": {},
   "outputs": [],
   "source": [
    "Minus=Filings_HR_A[Filings_HR_A.duplicated('cik', keep=\"last\")]\n",
    "Filings_HR_A=Filings_HR_A.drop(Minus.index).reset_index(drop=True)\n",
    "url_tbl_final=fetch_url(Filings_HR_A)\n",
    "hr_a_filings=fetch_data_from_xml(url_tbl_final)"
   ]
  },
  {
   "cell_type": "markdown",
   "id": "b9b73430",
   "metadata": {},
   "source": [
    "# Reading the CIK lookup data"
   ]
  },
  {
   "cell_type": "code",
   "execution_count": null,
   "id": "4458acae",
   "metadata": {},
   "outputs": [],
   "source": [
    "with open(path+'cik-lookup-data.txt') as f:\n",
    "    lines = f.readlines()\n",
    "txt_file=pd.DataFrame(lines)\n",
    "txt_file.columns=[\"cik\"]"
   ]
  },
  {
   "cell_type": "code",
   "execution_count": null,
   "id": "289ff8ba",
   "metadata": {},
   "outputs": [],
   "source": [
    "df = split_dataframe(txt_file, chunk_size=100000)\n",
    "cik_final=cik_(df)"
   ]
  },
  {
   "cell_type": "markdown",
   "id": "93c7e1ae",
   "metadata": {},
   "source": [
    "# Data Pre-processing for 13FHR/A"
   ]
  },
  {
   "cell_type": "code",
   "execution_count": 1137,
   "id": "827abab7",
   "metadata": {},
   "outputs": [],
   "source": [
    "hr_a_filings[\"Form\"]=\"13FHR/A\"\n",
    "hr_a_filings['value']=hr_a_filings['value']*1000\n",
    "x=hr_a_filings.groupby(by=['cusip',  'cik','titleOfClass','nameOfIssuer','putCall','investmentDiscretion','Form'],dropna=False).sum()\n",
    "HRA_final=x.reset_index()"
   ]
  },
  {
   "cell_type": "markdown",
   "id": "a04a854b",
   "metadata": {},
   "source": [
    "## Extracting 13FHR/A cik's from 13FHR data"
   ]
  },
  {
   "cell_type": "code",
   "execution_count": null,
   "id": "52905839",
   "metadata": {},
   "outputs": [],
   "source": [
    "hr_adjustments=Filings[Filings[\"cik\"].isin (HRA_final[\"cik\"])].reset_index(drop=True)\n",
    "Holdings_adjustments=Extracting_holdings(hr_adjustments)\n",
    "Holdings_adjustments['Form']='13FHR'"
   ]
  },
  {
   "cell_type": "code",
   "execution_count": null,
   "id": "bba05b9c",
   "metadata": {},
   "outputs": [],
   "source": [
    "Holdings_adjustments=Holdings_adjustments.drop(['id','shrsOrPrnAmt.sshPrnamtType','votingAuthority.Shared','votingAuthority.None'],axis=1)\n",
    "Holding_adjustments_grouped=Holdings_adjustments.groupby(by=['cusip','cik','titleOfClass','nameOfIssuer','putCall','investmentDiscretion','Form'],dropna=False).sum()"
   ]
  },
  {
   "cell_type": "code",
   "execution_count": null,
   "id": "f1ce1cc6",
   "metadata": {},
   "outputs": [],
   "source": [
    "Holding_adjustments_grouped=Holding_adjustments_grouped.reset_index()\n",
    "Holding_adjustments_grouped.columns=(['cusip', 'cik', 'titleOfClass', 'nameOfIssuer', 'putCall', 'investmentDiscretion', 'Form', 'value', 'shrsOrPrnAmt',  'votingAuthority'])"
   ]
  },
  {
   "cell_type": "markdown",
   "id": "c4de12a2",
   "metadata": {},
   "source": [
    "# Joining the 13F-HR and 13F-HR/A holdings"
   ]
  },
  {
   "cell_type": "code",
   "execution_count": 1158,
   "id": "3281abd8",
   "metadata": {},
   "outputs": [],
   "source": [
    "Filings_for_holding=Filings.drop(Filings[Filings[\"cik\"].isin(HRA_final[\"cik\"])].index).reset_index(drop=True)\n",
    "HRA_filings=pd.concat((Holding_adjustments_grouped,HRA_final),axis=0, ignore_index=True)\n",
    "HRA_filings=HRA_filings.sort_values(by=['cik','cusip','Form'])"
   ]
  },
  {
   "cell_type": "code",
   "execution_count": null,
   "id": "b5f2ab98",
   "metadata": {},
   "outputs": [],
   "source": [
    "Minus=HRA_filings[HRA_filings.duplicated(['cusip',  'cik','titleOfClass','nameOfIssuer','putCall','investmentDiscretion'], keep='last')]\n",
    "C=HRA_filings.drop(Minus.index).reset_index(drop=True)\n",
    "Filings_for_holding=Filings.drop(Filings[Filings[\"cik\"].isin(HRA_final[\"cik\"])].index).reset_index(drop=True)"
   ]
  },
  {
   "cell_type": "markdown",
   "id": "530b57ef",
   "metadata": {},
   "source": [
    "# Holdings extraction from the joined data"
   ]
  },
  {
   "cell_type": "code",
   "execution_count": null,
   "id": "cca372ce",
   "metadata": {},
   "outputs": [],
   "source": [
    "df=split_dataframe(Filings_for_holding)\n",
    "Hold_final=Holdings(df)"
   ]
  },
  {
   "cell_type": "code",
   "execution_count": 1189,
   "id": "5cfde6bb",
   "metadata": {},
   "outputs": [],
   "source": [
    "Hold_final[\"Form\"]='13FHR'\n",
    "Hold_final=Hold_final.groupby(by=['cusip',  'cik','titleOfClass','nameOfIssuer','putCall','investmentDiscretion'],dropna=False).sum()\n",
    "Hold_final=Hold_final.reset_index()\n",
    "Hold_final=pd.concat((Hold_final,C),axis=0, ignore_index=True)"
   ]
  },
  {
   "cell_type": "markdown",
   "id": "fb82e465",
   "metadata": {},
   "source": [
    "# Cleaning the CIK lookup data"
   ]
  },
  {
   "cell_type": "code",
   "execution_count": null,
   "id": "1b2ccd12",
   "metadata": {},
   "outputs": [],
   "source": [
    "cik_final=cik_final.drop_duplicates()\n",
    "\n",
    "cik_final.columns=[\"Company\",\"CIK\",\"Separator\",\"se\",\"k\"]\n",
    "\n",
    "for x in range(len(cik_final)):   \n",
    "    if cik_final[\"Separator\"][x]!=\"\\n\":\n",
    "        cik_final[\"Company\"][x]=cik_final[\"Company\"][x]+cik_final[\"CIK\"][x]\n",
    "        cik_final[\"CIK\"][x]=cik_final[\"Separator\"][x]\n",
    "        \n",
    "h=cik_final[(cik_final[\"se\"].notna()) & (cik_final[\"se\"]!=\"\\n\")]"
   ]
  },
  {
   "cell_type": "code",
   "execution_count": 227,
   "id": "b3c3c9af",
   "metadata": {},
   "outputs": [],
   "source": [
    "for x in range(len(h)):   \n",
    "    h.iloc[x][\"Company\"]=h.iloc[x][\"Company\"]+h.iloc[x][\"CIK\"]+h.iloc[x][\"Separator\"]\n",
    "    h.iloc[x][\"CIK\"]=h.iloc[x][\"se\"]\n",
    "\n",
    "cik_final=cik_final.drop(h.index)\n",
    "\n",
    "#cik_final=cik_final.append(h)\n",
    "cik_final=pd.concat((cik_final, h), axis = 0,ignore_index=True)\n",
    "\n",
    "cik_final=cik_final.drop(columns=[\"Separator\",\"se\",\"k\"])\n",
    "cik_final.columns=[\"nameOfIssuer\",\"CIK\"]\n",
    "\n",
    "cik_final=cik_final.drop_duplicates()\n",
    "# cik_final[\"nameOfIssuer\"]=cik_final[\"nameOfIssuer\"].str.upper()"
   ]
  },
  {
   "cell_type": "markdown",
   "id": "a86aae6f",
   "metadata": {},
   "source": [
    "# Saving files"
   ]
  },
  {
   "cell_type": "code",
   "execution_count": null,
   "id": "54defe0e",
   "metadata": {},
   "outputs": [],
   "source": [
    "cik_final.to_csv(path+'cik_final.csv',index=None)\n",
    "Hold_final.to_csv(path+'Hold_final.csv',index=None)\n",
    "Filings_for_holding.to_csv(path + 'Filing_final.csv', index=None)"
   ]
  }
 ],
 "metadata": {
  "kernelspec": {
   "display_name": "Python 3",
   "language": "python",
   "name": "python3"
  },
  "language_info": {
   "codemirror_mode": {
    "name": "ipython",
    "version": 3
   },
   "file_extension": ".py",
   "mimetype": "text/x-python",
   "name": "python",
   "nbconvert_exporter": "python",
   "pygments_lexer": "ipython3",
   "version": "3.8.8"
  }
 },
 "nbformat": 4,
 "nbformat_minor": 5
}
