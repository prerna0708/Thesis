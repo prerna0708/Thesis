{
 "cells": [
  {
   "cell_type": "code",
   "execution_count": 1,
   "id": "3059cd99",
   "metadata": {},
   "outputs": [],
   "source": [
    "import pandas as pd\n",
    "import os"
   ]
  },
  {
   "cell_type": "code",
   "execution_count": 2,
   "id": "9610c5f6",
   "metadata": {},
   "outputs": [],
   "source": [
    "directory = os.getcwd()\n",
    "path = directory + '/Data/'"
   ]
  },
  {
   "cell_type": "markdown",
   "id": "691e781d",
   "metadata": {},
   "source": [
    "# Reading files"
   ]
  },
  {
   "cell_type": "code",
   "execution_count": 3,
   "id": "c9a89d61",
   "metadata": {},
   "outputs": [],
   "source": [
    "Matched=pd.read_csv(path + 'Matched_v4.csv', sep=';')\n",
    "cik_v3=pd.read_csv(path + 'cik_v3.csv',low_memory=False)\n",
    "Holdings_df=pd.read_csv(path + 'Holdings_df.csv')"
   ]
  },
  {
   "cell_type": "code",
   "execution_count": 4,
   "id": "546e62e3",
   "metadata": {},
   "outputs": [],
   "source": [
    "cik_v4=cik_v3[cik_v3[\"CIK\"].isna()]\n",
    "for_matching=cik_v4[\"nameOfIssuer_x\"].unique()\n",
    "for_matching=pd.DataFrame(for_matching, columns=([\"nameOfIssuer_x\"]))"
   ]
  },
  {
   "cell_type": "markdown",
   "id": "66327160",
   "metadata": {},
   "source": [
    "# Joining fuzzy match records with Holdings data"
   ]
  },
  {
   "cell_type": "code",
   "execution_count": 5,
   "id": "ad7f4928",
   "metadata": {},
   "outputs": [],
   "source": [
    "#a=pd.merge(Matched, df[0], how='right', on='nameOfIssuer_x')\n",
    "cik_v4=cik_v4.drop([\"CIK\",\"nameOfIssuer_unchanged\",\"nameOfIssuer_y\",\"nameOfIssuer_1\"],axis=1)"
   ]
  },
  {
   "cell_type": "code",
   "execution_count": 6,
   "id": "15738e4c",
   "metadata": {},
   "outputs": [],
   "source": [
    "merge_=pd.merge(cik_v4,Matched, how='left', on='nameOfIssuer_x')"
   ]
  },
  {
   "cell_type": "code",
   "execution_count": 7,
   "id": "7aa0a68b",
   "metadata": {},
   "outputs": [],
   "source": [
    "merge_5=merge_[~merge_[\"CIK\"].isna()][[\"cusip\",\"cik_Filing\",\"titleOfClass\",\"putCall\",\"CIK\",\"investmentDiscretion\",\"value\",\"nameOfIssuer_x\",\"nameOfIssuer\"]]\n",
    "merge_5.rename(columns = {'nameOfIssuer':'nameOfIssuer_unchanged','nameOfIssuer_x':'nameOfIssuer'}, inplace = True)\n",
    "#merge_5.rename(columns = {'nameOfIssuer':'nameOfIssuer_x'}, inplace = True)\n",
    "\n",
    "Holdings=pd.concat((Holdings_df,merge_5),axis=0, ignore_index=True).reset_index(drop=True)"
   ]
  },
  {
   "cell_type": "markdown",
   "id": "e6b20139",
   "metadata": {},
   "source": [
    "# Saving Holdings file"
   ]
  },
  {
   "cell_type": "code",
   "execution_count": 8,
   "id": "83a51bdb",
   "metadata": {},
   "outputs": [],
   "source": [
    "Holdings.to_csv(path + 'Holdings.csv', index=False)"
   ]
  }
 ],
 "metadata": {
  "kernelspec": {
   "display_name": "Python 3",
   "language": "python",
   "name": "python3"
  },
  "language_info": {
   "codemirror_mode": {
    "name": "ipython",
    "version": 3
   },
   "file_extension": ".py",
   "mimetype": "text/x-python",
   "name": "python",
   "nbconvert_exporter": "python",
   "pygments_lexer": "ipython3",
   "version": "3.8.8"
  }
 },
 "nbformat": 4,
 "nbformat_minor": 5
}
