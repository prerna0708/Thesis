{
 "cells": [
  {
   "cell_type": "code",
   "execution_count": 1,
   "id": "d6d8c520",
   "metadata": {},
   "outputs": [],
   "source": [
    "from neo4j import GraphDatabase\n",
    "import pandas as pd\n",
    "from tabulate import tabulate\n",
    "import os\n",
    "import matplotlib\n",
    "matplotlib.use('TkAgg')\n",
    "import matplotlib.pyplot as plt"
   ]
  },
  {
   "cell_type": "code",
   "execution_count": 2,
   "id": "ffd70b91",
   "metadata": {},
   "outputs": [],
   "source": [
    "directory = os.getcwd()\n",
    "path = directory + '/Data/'"
   ]
  },
  {
   "cell_type": "markdown",
   "id": "f7ee472f",
   "metadata": {},
   "source": [
    "## Connecting to database in neo4j"
   ]
  },
  {
   "cell_type": "code",
   "execution_count": 3,
   "id": "021485cb",
   "metadata": {},
   "outputs": [],
   "source": [
    "driver=GraphDatabase.driver(\"bolt://localhost:7687\",auth=(\"neo4j\",\"\"))\n",
    "session = driver.session(database=\"graphwooptions\")"
   ]
  },
  {
   "cell_type": "markdown",
   "id": "90450500",
   "metadata": {},
   "source": [
    "## Louvain "
   ]
  },
  {
   "cell_type": "code",
   "execution_count": 4,
   "id": "e29f02e5",
   "metadata": {},
   "outputs": [],
   "source": [
    "query='''CALL gds.louvain.write({\n",
    "  nodeProjection: 'company',\n",
    "  relationshipProjection: {\n",
    "    relType: {\n",
    "      type: 'Holds',\n",
    "      orientation: 'REVERSE',\n",
    "      properties: {\n",
    "        value: {\n",
    "          property: 'value',\n",
    "          defaultValue: 1\n",
    "        }\n",
    "      }\n",
    "    }\n",
    "  },\n",
    "  relationshipWeightProperty: 'value',\n",
    "  includeIntermediateCommunities: false,\n",
    "  seedProperty: '',\n",
    "  writeProperty: 'louvain'\n",
    "});'''\n",
    "with driver.session(database=\"graphwooptions\") as session:\n",
    "    session.run(query)"
   ]
  },
  {
   "cell_type": "markdown",
   "id": "6022de78",
   "metadata": {},
   "source": [
    "## Label propagation algorithm"
   ]
  },
  {
   "cell_type": "code",
   "execution_count": 5,
   "id": "c29883c0",
   "metadata": {},
   "outputs": [],
   "source": [
    "query='''CALL gds.labelPropagation.write({\n",
    "  nodeProjection: 'company',\n",
    "  relationshipProjection: {\n",
    "    relType: {\n",
    "      type: 'Holds',\n",
    "      orientation: 'REVERSE',\n",
    "      properties: {\n",
    "        value: {\n",
    "          property: 'value',\n",
    "          defaultValue: 1\n",
    "        }\n",
    "      }\n",
    "    }\n",
    "  },\n",
    "  relationshipWeightProperty: 'value',\n",
    "  seedProperty: '',\n",
    "  writeProperty: 'lpa'\n",
    "});'''\n",
    "with driver.session(database=\"graphwooptions\") as session:\n",
    "    session.run(query)"
   ]
  },
  {
   "cell_type": "markdown",
   "id": "44d4b5d3",
   "metadata": {},
   "source": [
    "## Strongly connected components"
   ]
  },
  {
   "cell_type": "code",
   "execution_count": 6,
   "id": "9c40d93a",
   "metadata": {},
   "outputs": [],
   "source": [
    "query='''CALL gds.alpha.scc.write({\n",
    "  nodeProjection: 'company',\n",
    "  relationshipProjection: {\n",
    "    relType: {\n",
    "      type: 'Holds',\n",
    "      orientation: 'REVERSE',\n",
    "      properties: {}\n",
    "    }\n",
    "  },\n",
    "  writeProperty: 'scc'\n",
    "});'''\n",
    "with driver.session(database=\"graphwooptions\") as session:\n",
    "    session.run(query)"
   ]
  },
  {
   "cell_type": "markdown",
   "id": "ae441192",
   "metadata": {},
   "source": [
    "## Analysing scc, the biggest community of scc has 129 nodes and has scc=14082"
   ]
  },
  {
   "cell_type": "code",
   "execution_count": 7,
   "id": "0bd675e7",
   "metadata": {},
   "outputs": [],
   "source": [
    "query='''MATCH (n)-[rel:Holds]->(m) where n.scc=14082 RETURN distinct n.id as id, n.company as company, n.scc as scc'''\n",
    "    \n",
    "    \n",
    "with driver.session(database=\"graphwooptions\") as session:\n",
    "    scc=pd.DataFrame([dict(record) for record in session.run(query)])\n",
    "    scc=scc[['scc','company','id']]"
   ]
  },
  {
   "cell_type": "code",
   "execution_count": 8,
   "id": "17b2d4f2",
   "metadata": {},
   "outputs": [],
   "source": [
    "scc.to_csv(path+'scc.csv')"
   ]
  },
  {
   "cell_type": "code",
   "execution_count": null,
   "id": "4d019b9f",
   "metadata": {},
   "outputs": [],
   "source": []
  }
 ],
 "metadata": {
  "kernelspec": {
   "display_name": "Python 3",
   "language": "python",
   "name": "python3"
  },
  "language_info": {
   "codemirror_mode": {
    "name": "ipython",
    "version": 3
   },
   "file_extension": ".py",
   "mimetype": "text/x-python",
   "name": "python",
   "nbconvert_exporter": "python",
   "pygments_lexer": "ipython3",
   "version": "3.8.8"
  }
 },
 "nbformat": 4,
 "nbformat_minor": 5
}
