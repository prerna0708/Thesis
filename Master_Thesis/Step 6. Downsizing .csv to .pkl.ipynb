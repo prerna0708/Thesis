{
 "cells": [
  {
   "cell_type": "code",
   "execution_count": 1,
   "id": "fe132ef2",
   "metadata": {},
   "outputs": [],
   "source": [
    "import os\n",
    "import pandas as pd"
   ]
  },
  {
   "cell_type": "code",
   "execution_count": 2,
   "id": "8957b4f7",
   "metadata": {},
   "outputs": [],
   "source": [
    "directory = os.getcwd()\n",
    "path = directory + '/Data/'"
   ]
  },
  {
   "cell_type": "markdown",
   "id": "0f0a6c3b",
   "metadata": {},
   "source": [
    "## Reading files"
   ]
  },
  {
   "cell_type": "code",
   "execution_count": 3,
   "id": "492a674b",
   "metadata": {},
   "outputs": [],
   "source": [
    "header_list = [\"cusip\",'cik','titleOfClass','nameOfIssuer','putCall','investmentDiscretion','value','shrsOrPrnAmt.sshPrnamt',\n",
    "               'shrsOrPrnAmt.sshPrnamtType','votingAuthority.Sole','votingAuthority.Shared','votingAuthority.None','id','Form']\n",
    "cik_header=[\"nameOfIssuer\",\"CIK\"]"
   ]
  },
  {
   "cell_type": "code",
   "execution_count": 6,
   "id": "ae468719",
   "metadata": {},
   "outputs": [],
   "source": [
    "Filing_final=pd.read_csv(path + 'Filing_final.csv')\n",
    "Hold_final=pd.read_csv(path + 'Hold_final.csv',names=header_list,low_memory=False, header=0)\n",
    "Filings_df=pd.read_csv(path + 'Filings_df.csv')\n",
    "Holdings=pd.read_csv(path + 'Holdings.csv')\n",
    "Holdings_df=pd.read_csv(path + 'Holdings_df.csv')\n",
    "cik_v3=pd.read_csv(path+'cik_v3.csv',low_memory=False)\n",
    "Relationships=pd.read_csv(path + 'Relationships.csv')\n",
    "Relationships_wo_options=pd.read_csv(path + 'Relationships_wo_options.csv')"
   ]
  },
  {
   "cell_type": "markdown",
   "id": "9cf2e35c",
   "metadata": {},
   "source": [
    "## Converting to .pkl files to reduce size"
   ]
  },
  {
   "cell_type": "code",
   "execution_count": 7,
   "id": "c6de9dd0",
   "metadata": {},
   "outputs": [],
   "source": [
    "Filing_final.to_pickle(path + \"Filing_final.pkl\", compression='bz2')\n",
    "Hold_final.to_pickle(path + \"Hold_final.pkl\", compression='bz2')\n",
    "Filings_df.to_pickle(path + \"Filings_df.pkl\", compression='bz2')\n",
    "Holdings.to_pickle(path + \"Holdings.pkl\", compression='bz2')\n",
    "Holdings_df.to_pickle(path + \"Holdings_df.pkl\", compression='bz2')\n",
    "cik_v3.to_pickle(path + \"cik_v3.pkl\", compression='bz2')\n",
    "Relationships.to_pickle(path + \"Relationships.pkl\", compression='bz2')\n",
    "Relationships_wo_options.to_pickle(path + \"Relationships_wo_options.pkl\", compression='bz2')"
   ]
  }
 ],
 "metadata": {
  "kernelspec": {
   "display_name": "Python 3",
   "language": "python",
   "name": "python3"
  },
  "language_info": {
   "codemirror_mode": {
    "name": "ipython",
    "version": 3
   },
   "file_extension": ".py",
   "mimetype": "text/x-python",
   "name": "python",
   "nbconvert_exporter": "python",
   "pygments_lexer": "ipython3",
   "version": "3.8.8"
  }
 },
 "nbformat": 4,
 "nbformat_minor": 5
}
